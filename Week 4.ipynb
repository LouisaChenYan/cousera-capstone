{
    "cells": [
        {
            "cell_type": "code",
            "execution_count": null,
            "metadata": {
                "collapsed": true
            },
            "outputs": [],
            "source": "# The Battle of Neighborhoods - Week 4"
        },
        {
            "cell_type": "code",
            "execution_count": 2,
            "metadata": {},
            "outputs": [
                {
                    "name": "stdout",
                    "output_type": "stream",
                    "text": "Solving environment: done\n\n## Package Plan ##\n\n  environment location: /opt/conda/envs/Python36\n\n  added / updated specs: \n    - geopy\n\n\nThe following packages will be downloaded:\n\n    package                    |            build\n    ---------------------------|-----------------\n    openssl-1.1.1d             |       h516909a_0         2.1 MB  conda-forge\n    ca-certificates-2019.11.28 |       hecc5488_0         145 KB  conda-forge\n    certifi-2019.11.28         |           py36_0         149 KB  conda-forge\n    geographiclib-1.50         |             py_0          34 KB  conda-forge\n    geopy-1.20.0               |             py_0          57 KB  conda-forge\n    ------------------------------------------------------------\n                                           Total:         2.5 MB\n\nThe following NEW packages will be INSTALLED:\n\n    geographiclib:   1.50-py_0         conda-forge\n    geopy:           1.20.0-py_0       conda-forge\n\nThe following packages will be UPDATED:\n\n    ca-certificates: 2019.11.27-0                  --> 2019.11.28-hecc5488_0 conda-forge\n    certifi:         2019.11.28-py36_0             --> 2019.11.28-py36_0     conda-forge\n\nThe following packages will be DOWNGRADED:\n\n    openssl:         1.1.1d-h7b6447c_3             --> 1.1.1d-h516909a_0     conda-forge\n\n\nDownloading and Extracting Packages\nopenssl-1.1.1d       | 2.1 MB    | ##################################### | 100% \nca-certificates-2019 | 145 KB    | ##################################### | 100% \ncertifi-2019.11.28   | 149 KB    | ##################################### | 100% \ngeographiclib-1.50   | 34 KB     | ##################################### | 100% \ngeopy-1.20.0         | 57 KB     | ##################################### | 100% \nPreparing transaction: done\nVerifying transaction: done\nExecuting transaction: done\nSolving environment: done\n\n## Package Plan ##\n\n  environment location: /opt/conda/envs/Python36\n\n  added / updated specs: \n    - folium=0.5.0\n\n\nThe following packages will be downloaded:\n\n    package                    |            build\n    ---------------------------|-----------------\n    altair-4.0.0               |             py_0         606 KB  conda-forge\n    branca-0.3.1               |             py_0          25 KB  conda-forge\n    vincent-0.4.4              |             py_1          28 KB  conda-forge\n    folium-0.5.0               |             py_0          45 KB  conda-forge\n    ------------------------------------------------------------\n                                           Total:         704 KB\n\nThe following NEW packages will be INSTALLED:\n\n    altair:  4.0.0-py_0 conda-forge\n    branca:  0.3.1-py_0 conda-forge\n    folium:  0.5.0-py_0 conda-forge\n    vincent: 0.4.4-py_1 conda-forge\n\n\nDownloading and Extracting Packages\naltair-4.0.0         | 606 KB    | ##################################### | 100% \nbranca-0.3.1         | 25 KB     | ##################################### | 100% \nvincent-0.4.4        | 28 KB     | ##################################### | 100% \nfolium-0.5.0         | 45 KB     | ##################################### | 100% \nPreparing transaction: done\nVerifying transaction: done\nExecuting transaction: done\n"
                }
            ],
            "source": "#import the related library\nimport numpy as np \n\nimport pandas as pd\npd.set_option('display.max_columns', None)\npd.set_option('display.max_rows', None)\n\nimport json # \n\n!conda install -c conda-forge geopy --yes \nfrom geopy.geocoders import Nominatim \n\nimport requests \nfrom pandas.io.json import json_normalize\n\n\nimport matplotlib.cm as cm\nimport matplotlib.colors as colors\n\n\nfrom sklearn.cluster import KMeans\n\n\nfrom bs4 import BeautifulSoup\n\nimport xml\n\n!conda install -c conda-forge folium=0.5.0 --yes \nimport folium"
        },
        {
            "cell_type": "code",
            "execution_count": 3,
            "metadata": {},
            "outputs": [],
            "source": "# A description of the problem and a discussion of the background. (15 marks)"
        },
        {
            "cell_type": "code",
            "execution_count": null,
            "metadata": {},
            "outputs": [],
            "source": "As a citizen in Shanghai now, I enjoy my living neighborhood. I may have expatriate opportunity to relocation to Manhatton for a short term assignment. \n\nBusiness Problem:\nThe objective is to find a suitable apartment in Manhatton with similar neighborhood environment to mine in Shanghai.\nThe apartment better meet below standards:\n- 2 bedrooms\n- near a metro station in the Manhattan area\n- rent < $5,000 per month\n- similar neighborhood environment to mine in Shanghai"
        },
        {
            "cell_type": "markdown",
            "metadata": {},
            "source": "#A description of the data and how it will be used to solve the problem. (15 marks)"
        },
        {
            "cell_type": "markdown",
            "metadata": {},
            "source": "The below data is required to answer this problem:\n\n- List of Boroughs and neighborhoods of Manhattan with their geodata (latitud and longitud)\n- List of Subway metro stations in Manhattan with their address location\n- List of apartments for rent in Manhattan area with their addresses and price\n- Preferably, a list of apartment for rent with additional information, such as price, address, area, # of beds, etc\n- Venues for each Manhattan neighborhood\n- Venues for subway metro stations\n\nThe data will be used in below methods:\n\nUse Foursquare and geopy data to map top 10 venues for all Manhattan neighborhoods and clustered in groups ( as per Course LAB)\nUse foursquare and geopy data to map the location of subway metro stations , separately and on top of the above clustered map in order to be able to identify the venues and ammenities near each metro station, or explore each subway location separately\nUse Foursquare and geopy data to map the location of rental places, in some form, linked to the subway locations.\ncreate a map that depicts, for instance, the average rental price per square ft, around a radious of 1.0 mile (1.6 km) around each subway station - or a similar metrics. I will be able to quickly point to the popups to know the relative price per subway area.\nAddresses from rental locations will be converted to geodata( lat, long) using Geopy-distance and Nominatim.\nData will be searched in open data sources if available, from real estate sites if open to reading, libraries or other government agencies such as Metro New York MTA, etc."
        },
        {
            "cell_type": "code",
            "execution_count": 8,
            "metadata": {},
            "outputs": [],
            "source": "CLIENT_ID = 'DVCTZDPDYXTS0BRJFPLMHM323APGXNWZI5PLRQ1VC0CFLF1T' # your Foursquare ID\nCLIENT_SECRET = '5NWAGXRLXIXAV0L3DNYY1EPIHNMAAAIZFDFELYSYXL5LFWL1' # your Foursquare Secret\nVERSION = '20180605' # Foursquare API version"
        },
        {
            "cell_type": "code",
            "execution_count": 23,
            "metadata": {},
            "outputs": [
                {
                    "name": "stderr",
                    "output_type": "stream",
                    "text": "/opt/conda/envs/Python36/lib/python3.6/site-packages/ipykernel/__main__.py:4: DeprecationWarning: Using Nominatim with the default \"geopy/1.20.0\" `user_agent` is strongly discouraged, as it violates Nominatim's ToS https://operations.osmfoundation.org/policies/nominatim/ and may possibly cause 403 and 429 HTTP errors. Please specify a custom `user_agent` with `Nominatim(user_agent=\"my-application\")` or by overriding the default `user_agent`: `geopy.geocoders.options.default_user_agent = \"my-application\"`. In geopy 2.0 this will become an exception.\n"
                },
                {
                    "name": "stdout",
                    "output_type": "stream",
                    "text": "The geograpical coordinate of Shanghai home are 31.2677599, 121.4110533.\n"
                }
            ],
            "source": "# Dahua, Shanghai\naddress = 'Dahua Road, Shanghai'\n\ngeolocator = Nominatim()\nlocation = geolocator.geocode(address)\nlatitude = location.latitude\nlongitude = location.longitude\nprint('The geograpical coordinate of Shanghai home are {}, {}.'.format(latitude, longitude))"
        },
        {
            "cell_type": "code",
            "execution_count": 17,
            "metadata": {},
            "outputs": [],
            "source": "neighborhood_latitude=31.2677599\nneighborhood_longitude=121.4110533"
        },
        {
            "cell_type": "code",
            "execution_count": 18,
            "metadata": {},
            "outputs": [
                {
                    "data": {
                        "text/plain": "'https://api.foursquare.com/v2/venues/explore?&client_id=DVCTZDPDYXTS0BRJFPLMHM323APGXNWZI5PLRQ1VC0CFLF1T&client_secret=5NWAGXRLXIXAV0L3DNYY1EPIHNMAAAIZFDFELYSYXL5LFWL1&v=20180605&ll=31.2677599,121.4110533&radius=500&limit=100'"
                    },
                    "execution_count": 18,
                    "metadata": {},
                    "output_type": "execute_result"
                }
            ],
            "source": "LIMIT = 100 # limit of number of venues returned by Foursquare API\nradius = 500 # define radius\n\n# create URL\nurl = 'https://api.foursquare.com/v2/venues/explore?&client_id={}&client_secret={}&v={}&ll={},{}&radius={}&limit={}'.format(\n    CLIENT_ID, \n    CLIENT_SECRET, \n    VERSION, \n    neighborhood_latitude, \n    neighborhood_longitude, \n    radius, \n    LIMIT)\nurl # display URL"
        },
        {
            "cell_type": "code",
            "execution_count": 19,
            "metadata": {},
            "outputs": [],
            "source": "\nresults = requests.get(url).json()\n#results"
        },
        {
            "cell_type": "code",
            "execution_count": 20,
            "metadata": {},
            "outputs": [],
            "source": "# function that extracts the category of the venue\ndef get_category_type(row):\n    try:\n        categories_list = row['categories']\n    except:\n        categories_list = row['venue.categories']\n        \n    if len(categories_list) == 0:\n        return None\n    else:\n        return categories_list[0]['name']"
        },
        {
            "cell_type": "code",
            "execution_count": 21,
            "metadata": {},
            "outputs": [
                {
                    "data": {
                        "text/html": "<div>\n<style scoped>\n    .dataframe tbody tr th:only-of-type {\n        vertical-align: middle;\n    }\n\n    .dataframe tbody tr th {\n        vertical-align: top;\n    }\n\n    .dataframe thead th {\n        text-align: right;\n    }\n</style>\n<table border=\"1\" class=\"dataframe\">\n  <thead>\n    <tr style=\"text-align: right;\">\n      <th></th>\n      <th>name</th>\n      <th>categories</th>\n      <th>lat</th>\n      <th>lng</th>\n    </tr>\n  </thead>\n  <tbody>\n    <tr>\n      <th>0</th>\n      <td>Carnival (\u5927\u534e\u864e\u57ce\u5609\u5e74\u534e)</td>\n      <td>Shopping Mall</td>\n      <td>31.271815</td>\n      <td>121.409146</td>\n    </tr>\n    <tr>\n      <th>1</th>\n      <td>Starbucks (\u661f\u5df4\u514b)</td>\n      <td>Coffee Shop</td>\n      <td>31.270911</td>\n      <td>121.414664</td>\n    </tr>\n    <tr>\n      <th>2</th>\n      <td>Yonghe King (\u6c38\u548c\u5927\u738b)</td>\n      <td>Fast Food Restaurant</td>\n      <td>31.268295</td>\n      <td>121.410797</td>\n    </tr>\n    <tr>\n      <th>3</th>\n      <td>Domino's Pizza (\u8fbe\u7f8e\u4e50\u6bd4\u8428)</td>\n      <td>Pizza Place</td>\n      <td>31.267253</td>\n      <td>121.410384</td>\n    </tr>\n    <tr>\n      <th>4</th>\n      <td>D\u00e9cathlon (\u8fea\u5361\u4fac)</td>\n      <td>Sporting Goods Shop</td>\n      <td>31.271765</td>\n      <td>121.409458</td>\n    </tr>\n    <tr>\n      <th>5</th>\n      <td>\u5927\u962a\u70e7\u8089</td>\n      <td>BBQ Joint</td>\n      <td>31.271792</td>\n      <td>121.409280</td>\n    </tr>\n  </tbody>\n</table>\n</div>",
                        "text/plain": "                     name            categories        lat         lng\n0      Carnival (\u5927\u534e\u864e\u57ce\u5609\u5e74\u534e)         Shopping Mall  31.271815  121.409146\n1         Starbucks (\u661f\u5df4\u514b)           Coffee Shop  31.270911  121.414664\n2      Yonghe King (\u6c38\u548c\u5927\u738b)  Fast Food Restaurant  31.268295  121.410797\n3  Domino's Pizza (\u8fbe\u7f8e\u4e50\u6bd4\u8428)           Pizza Place  31.267253  121.410384\n4         D\u00e9cathlon (\u8fea\u5361\u4fac)   Sporting Goods Shop  31.271765  121.409458\n5                    \u5927\u962a\u70e7\u8089             BBQ Joint  31.271792  121.409280"
                    },
                    "execution_count": 21,
                    "metadata": {},
                    "output_type": "execute_result"
                }
            ],
            "source": "venues = results['response']['groups'][0]['items']\n    \nSGnearby_venues = json_normalize(venues) # flatten JSON\n\n# filter columns\nfiltered_columns = ['venue.name', 'venue.categories', 'venue.location.lat', 'venue.location.lng']\nSGnearby_venues =SGnearby_venues.loc[:, filtered_columns]\n\n# filter the category for each row\nSGnearby_venues['venue.categories'] = SGnearby_venues.apply(get_category_type, axis=1)\n\n# clean columns\nSGnearby_venues.columns = [col.split(\".\")[-1] for col in SGnearby_venues.columns]\n\nSGnearby_venues.head(10)"
        },
        {
            "cell_type": "code",
            "execution_count": 22,
            "metadata": {},
            "outputs": [
                {
                    "data": {
                        "text/html": "<div style=\"width:100%;\"><div style=\"position:relative;width:100%;height:0;padding-bottom:60%;\"><iframe src=\"data:text/html;charset=utf-8;base64,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\" style=\"position:absolute;width:100%;height:100%;left:0;top:0;border:none !important;\" allowfullscreen webkitallowfullscreen mozallowfullscreen></iframe></div></div>",
                        "text/plain": "<folium.folium.Map at 0x7f5f82369048>"
                    },
                    "execution_count": 22,
                    "metadata": {},
                    "output_type": "execute_result"
                }
            ],
            "source": "# create map of Singapore place  using latitude and longitude values\nmap_sg = folium.Map(location=[latitude, longitude], zoom_start=20)\n\n# add markers to map\nfor lat, lng, label in zip(SGnearby_venues['lat'], SGnearby_venues['lng'], SGnearby_venues['name']):\n    label = folium.Popup(label, parse_html=True)\n    folium.RegularPolygonMarker(\n        [lat, lng],\n        number_of_sides=4,\n        radius=10,\n        popup=label,\n        color='blue',\n        fill_color='#0f0f0f',\n        fill_opacity=0.7,\n    ).add_to(map_sg)  \n    \nmap_sg"
        },
        {
            "cell_type": "code",
            "execution_count": null,
            "metadata": {},
            "outputs": [],
            "source": ""
        }
    ],
    "metadata": {
        "kernelspec": {
            "display_name": "Python 3.6",
            "language": "python",
            "name": "python3"
        },
        "language_info": {
            "codemirror_mode": {
                "name": "ipython",
                "version": 3
            },
            "file_extension": ".py",
            "mimetype": "text/x-python",
            "name": "python",
            "nbconvert_exporter": "python",
            "pygments_lexer": "ipython3",
            "version": "3.6.8"
        }
    },
    "nbformat": 4,
    "nbformat_minor": 1
}